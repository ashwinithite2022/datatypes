{
 "cells": [
  {
   "cell_type": "markdown",
   "metadata": {},
   "source": [
    "# Introduction to Datatypes"
   ]
  },
  {
   "cell_type": "markdown",
   "metadata": {},
   "source": [
    "# 1)Numbers"
   ]
  },
  {
   "cell_type": "code",
   "execution_count": 1,
   "metadata": {
    "ExecuteTime": {
     "end_time": "2023-01-12T12:50:11.636072Z",
     "start_time": "2023-01-12T12:50:11.617158Z"
    }
   },
   "outputs": [],
   "source": [
    "# to run a cell press shift+enter\n",
    "x = 10 "
   ]
  },
  {
   "cell_type": "code",
   "execution_count": 2,
   "metadata": {
    "ExecuteTime": {
     "end_time": "2023-01-12T12:50:11.663313Z",
     "start_time": "2023-01-12T12:50:11.640005Z"
    }
   },
   "outputs": [
    {
     "data": {
      "text/plain": [
       "10"
      ]
     },
     "execution_count": 2,
     "metadata": {},
     "output_type": "execute_result"
    }
   ],
   "source": [
    "x"
   ]
  },
  {
   "cell_type": "code",
   "execution_count": 3,
   "metadata": {
    "ExecuteTime": {
     "end_time": "2023-01-12T12:50:11.680165Z",
     "start_time": "2023-01-12T12:50:11.665972Z"
    }
   },
   "outputs": [
    {
     "name": "stdout",
     "output_type": "stream",
     "text": [
      "10\n"
     ]
    }
   ],
   "source": [
    "print(x)"
   ]
  },
  {
   "cell_type": "code",
   "execution_count": 4,
   "metadata": {
    "ExecuteTime": {
     "end_time": "2023-01-12T12:50:11.698921Z",
     "start_time": "2023-01-12T12:50:11.683574Z"
    }
   },
   "outputs": [
    {
     "data": {
      "text/plain": [
       "int"
      ]
     },
     "execution_count": 4,
     "metadata": {},
     "output_type": "execute_result"
    }
   ],
   "source": [
    "type(x)"
   ]
  },
  {
   "cell_type": "markdown",
   "metadata": {},
   "source": [
    "# 2)Strings"
   ]
  },
  {
   "cell_type": "code",
   "execution_count": 5,
   "metadata": {
    "ExecuteTime": {
     "end_time": "2023-01-12T12:50:11.714090Z",
     "start_time": "2023-01-12T12:50:11.701406Z"
    }
   },
   "outputs": [],
   "source": [
    "string = \"abc\""
   ]
  },
  {
   "cell_type": "code",
   "execution_count": 6,
   "metadata": {
    "ExecuteTime": {
     "end_time": "2023-01-12T12:50:11.722698Z",
     "start_time": "2023-01-12T12:50:11.717221Z"
    }
   },
   "outputs": [],
   "source": [
    "name = \"Ashwini\""
   ]
  },
  {
   "cell_type": "code",
   "execution_count": 7,
   "metadata": {
    "ExecuteTime": {
     "end_time": "2023-01-12T12:50:11.739222Z",
     "start_time": "2023-01-12T12:50:11.726231Z"
    }
   },
   "outputs": [
    {
     "name": "stdout",
     "output_type": "stream",
     "text": [
      "Ashwini\n"
     ]
    }
   ],
   "source": [
    "print(name)"
   ]
  },
  {
   "cell_type": "code",
   "execution_count": 8,
   "metadata": {
    "ExecuteTime": {
     "end_time": "2023-01-12T12:50:11.754410Z",
     "start_time": "2023-01-12T12:50:11.742407Z"
    }
   },
   "outputs": [
    {
     "name": "stdout",
     "output_type": "stream",
     "text": [
      "abc\n"
     ]
    }
   ],
   "source": [
    "print(string)"
   ]
  },
  {
   "cell_type": "code",
   "execution_count": 9,
   "metadata": {
    "ExecuteTime": {
     "end_time": "2023-01-12T12:50:11.770375Z",
     "start_time": "2023-01-12T12:50:11.756591Z"
    },
    "scrolled": true
   },
   "outputs": [
    {
     "name": "stdout",
     "output_type": "stream",
     "text": [
      "<class 'str'>\n"
     ]
    }
   ],
   "source": [
    "print(type(string))"
   ]
  },
  {
   "cell_type": "code",
   "execution_count": 10,
   "metadata": {
    "ExecuteTime": {
     "end_time": "2023-01-12T12:50:11.786370Z",
     "start_time": "2023-01-12T12:50:11.776841Z"
    }
   },
   "outputs": [
    {
     "data": {
      "text/plain": [
       "3"
      ]
     },
     "execution_count": 10,
     "metadata": {},
     "output_type": "execute_result"
    }
   ],
   "source": [
    " # len() is used to find the length of the datatype, list or tuples\n",
    "len(string)"
   ]
  },
  {
   "cell_type": "code",
   "execution_count": 11,
   "metadata": {
    "ExecuteTime": {
     "end_time": "2023-01-12T12:50:11.801169Z",
     "start_time": "2023-01-12T12:50:11.788888Z"
    }
   },
   "outputs": [
    {
     "data": {
      "text/plain": [
       "7"
      ]
     },
     "execution_count": 11,
     "metadata": {},
     "output_type": "execute_result"
    }
   ],
   "source": [
    "len(name)"
   ]
  },
  {
   "cell_type": "code",
   "execution_count": 12,
   "metadata": {
    "ExecuteTime": {
     "end_time": "2023-01-12T12:50:11.810912Z",
     "start_time": "2023-01-12T12:50:11.804267Z"
    }
   },
   "outputs": [],
   "source": [
    "new_var = 22.5\n"
   ]
  },
  {
   "cell_type": "code",
   "execution_count": 13,
   "metadata": {
    "ExecuteTime": {
     "end_time": "2023-01-12T12:50:11.832098Z",
     "start_time": "2023-01-12T12:50:11.814237Z"
    }
   },
   "outputs": [
    {
     "name": "stdout",
     "output_type": "stream",
     "text": [
      "<class 'float'>\n"
     ]
    }
   ],
   "source": [
    "print(type(new_var))"
   ]
  },
  {
   "cell_type": "code",
   "execution_count": 14,
   "metadata": {
    "ExecuteTime": {
     "end_time": "2023-01-12T12:50:11.847821Z",
     "start_time": "2023-01-12T12:50:11.835273Z"
    }
   },
   "outputs": [],
   "source": [
    "lis = [1,3,5,7]"
   ]
  },
  {
   "cell_type": "code",
   "execution_count": 15,
   "metadata": {
    "ExecuteTime": {
     "end_time": "2023-01-12T12:50:11.857981Z",
     "start_time": "2023-01-12T12:50:11.850933Z"
    }
   },
   "outputs": [],
   "source": [
    "# indexing"
   ]
  },
  {
   "cell_type": "code",
   "execution_count": 16,
   "metadata": {
    "ExecuteTime": {
     "end_time": "2023-01-12T12:50:11.876181Z",
     "start_time": "2023-01-12T12:50:11.861571Z"
    }
   },
   "outputs": [
    {
     "data": {
      "text/plain": [
       "3"
      ]
     },
     "execution_count": 16,
     "metadata": {},
     "output_type": "execute_result"
    }
   ],
   "source": [
    "## starts from zero in python to length -1\n",
    "len(string)"
   ]
  },
  {
   "cell_type": "code",
   "execution_count": 17,
   "metadata": {
    "ExecuteTime": {
     "end_time": "2023-01-12T12:50:11.891082Z",
     "start_time": "2023-01-12T12:50:11.878266Z"
    }
   },
   "outputs": [
    {
     "data": {
      "text/plain": [
       "'abc'"
      ]
     },
     "execution_count": 17,
     "metadata": {},
     "output_type": "execute_result"
    }
   ],
   "source": [
    "string"
   ]
  },
  {
   "cell_type": "code",
   "execution_count": 18,
   "metadata": {
    "ExecuteTime": {
     "end_time": "2023-01-12T12:50:11.906959Z",
     "start_time": "2023-01-12T12:50:11.894351Z"
    }
   },
   "outputs": [
    {
     "data": {
      "text/plain": [
       "'a'"
      ]
     },
     "execution_count": 18,
     "metadata": {},
     "output_type": "execute_result"
    }
   ],
   "source": [
    "string[0]"
   ]
  },
  {
   "cell_type": "code",
   "execution_count": 19,
   "metadata": {
    "ExecuteTime": {
     "end_time": "2023-01-12T12:50:11.925801Z",
     "start_time": "2023-01-12T12:50:11.910278Z"
    }
   },
   "outputs": [
    {
     "data": {
      "text/plain": [
       "'b'"
      ]
     },
     "execution_count": 19,
     "metadata": {},
     "output_type": "execute_result"
    }
   ],
   "source": [
    "string[1]"
   ]
  },
  {
   "cell_type": "code",
   "execution_count": 20,
   "metadata": {
    "ExecuteTime": {
     "end_time": "2023-01-12T12:50:11.939420Z",
     "start_time": "2023-01-12T12:50:11.928793Z"
    }
   },
   "outputs": [],
   "source": [
    "string = \"jkdsnflal,c;ldsmnsdv\""
   ]
  },
  {
   "cell_type": "code",
   "execution_count": 21,
   "metadata": {
    "ExecuteTime": {
     "end_time": "2023-01-12T12:50:11.955123Z",
     "start_time": "2023-01-12T12:50:11.942661Z"
    }
   },
   "outputs": [
    {
     "data": {
      "text/plain": [
       "'v'"
      ]
     },
     "execution_count": 21,
     "metadata": {},
     "output_type": "execute_result"
    }
   ],
   "source": [
    "string[-1]"
   ]
  },
  {
   "cell_type": "code",
   "execution_count": 22,
   "metadata": {
    "ExecuteTime": {
     "end_time": "2023-01-12T12:50:11.965374Z",
     "start_time": "2023-01-12T12:50:11.958506Z"
    }
   },
   "outputs": [],
   "source": [
    "# Positive indexing: left to right [0]\n",
    "# Negative indexing: right to left [-1]"
   ]
  },
  {
   "cell_type": "code",
   "execution_count": 23,
   "metadata": {
    "ExecuteTime": {
     "end_time": "2023-01-12T12:50:11.980791Z",
     "start_time": "2023-01-12T12:50:11.968366Z"
    }
   },
   "outputs": [],
   "source": [
    "string = \"abcdef\""
   ]
  },
  {
   "cell_type": "code",
   "execution_count": 24,
   "metadata": {
    "ExecuteTime": {
     "end_time": "2023-01-12T12:50:11.990029Z",
     "start_time": "2023-01-12T12:50:11.983057Z"
    }
   },
   "outputs": [
    {
     "name": "stdout",
     "output_type": "stream",
     "text": [
      "def\n"
     ]
    }
   ],
   "source": [
    "string = \"def\"\n",
    "print(string)"
   ]
  },
  {
   "cell_type": "code",
   "execution_count": 25,
   "metadata": {
    "ExecuteTime": {
     "end_time": "2023-01-12T12:50:12.007093Z",
     "start_time": "2023-01-12T12:50:11.994318Z"
    }
   },
   "outputs": [
    {
     "data": {
      "text/plain": [
       "'def'"
      ]
     },
     "execution_count": 25,
     "metadata": {},
     "output_type": "execute_result"
    }
   ],
   "source": [
    "string[0:4]"
   ]
  },
  {
   "cell_type": "markdown",
   "metadata": {},
   "source": [
    "## Slicing\n",
    " - Extraction of a substring\n",
    " - syntax is start pos and end pos (end pos excluded)"
   ]
  },
  {
   "cell_type": "code",
   "execution_count": 26,
   "metadata": {
    "ExecuteTime": {
     "end_time": "2023-01-12T12:50:12.025129Z",
     "start_time": "2023-01-12T12:50:12.010103Z"
    }
   },
   "outputs": [
    {
     "data": {
      "text/plain": [
       "''"
      ]
     },
     "execution_count": 26,
     "metadata": {},
     "output_type": "execute_result"
    }
   ],
   "source": [
    "string[3:-1]"
   ]
  },
  {
   "cell_type": "code",
   "execution_count": 27,
   "metadata": {
    "ExecuteTime": {
     "end_time": "2023-01-12T12:50:12.041968Z",
     "start_time": "2023-01-12T12:50:12.028518Z"
    }
   },
   "outputs": [
    {
     "data": {
      "text/plain": [
       "'def'"
      ]
     },
     "execution_count": 27,
     "metadata": {},
     "output_type": "execute_result"
    }
   ],
   "source": [
    "string[:3]"
   ]
  },
  {
   "cell_type": "code",
   "execution_count": 28,
   "metadata": {
    "ExecuteTime": {
     "end_time": "2023-01-12T12:50:12.057438Z",
     "start_time": "2023-01-12T12:50:12.052935Z"
    }
   },
   "outputs": [],
   "source": [
    "var = \"ab_bc_cd_ed.json\""
   ]
  },
  {
   "cell_type": "code",
   "execution_count": 29,
   "metadata": {
    "ExecuteTime": {
     "end_time": "2023-01-12T12:50:12.076400Z",
     "start_time": "2023-01-12T12:50:12.061399Z"
    }
   },
   "outputs": [
    {
     "data": {
      "text/plain": [
       "'abcgfd'"
      ]
     },
     "execution_count": 29,
     "metadata": {},
     "output_type": "execute_result"
    }
   ],
   "source": [
    "string_1 = \"abc\"\n",
    "string_2 = \"gfd\"\n",
    "string_1+string_2"
   ]
  },
  {
   "cell_type": "code",
   "execution_count": 30,
   "metadata": {
    "ExecuteTime": {
     "end_time": "2023-01-12T12:50:12.089448Z",
     "start_time": "2023-01-12T12:50:12.078395Z"
    }
   },
   "outputs": [],
   "source": [
    "num_var_1 = 123"
   ]
  },
  {
   "cell_type": "code",
   "execution_count": 31,
   "metadata": {
    "ExecuteTime": {
     "end_time": "2023-01-12T12:50:12.107193Z",
     "start_time": "2023-01-12T12:50:12.092378Z"
    }
   },
   "outputs": [
    {
     "data": {
      "text/plain": [
       "str"
      ]
     },
     "execution_count": 31,
     "metadata": {},
     "output_type": "execute_result"
    }
   ],
   "source": [
    "num_var = str(num_var_1)\n",
    "type(num_var)"
   ]
  },
  {
   "cell_type": "code",
   "execution_count": 32,
   "metadata": {
    "ExecuteTime": {
     "end_time": "2023-01-12T12:50:12.125807Z",
     "start_time": "2023-01-12T12:50:12.109657Z"
    }
   },
   "outputs": [
    {
     "data": {
      "text/plain": [
       "str"
      ]
     },
     "execution_count": 32,
     "metadata": {},
     "output_type": "execute_result"
    }
   ],
   "source": [
    "type(num_var)"
   ]
  },
  {
   "cell_type": "code",
   "execution_count": 33,
   "metadata": {
    "ExecuteTime": {
     "end_time": "2023-01-12T12:50:12.137623Z",
     "start_time": "2023-01-12T12:50:12.127843Z"
    }
   },
   "outputs": [
    {
     "data": {
      "text/plain": [
       "'abc123'"
      ]
     },
     "execution_count": 33,
     "metadata": {},
     "output_type": "execute_result"
    }
   ],
   "source": [
    "string_1+num_var"
   ]
  },
  {
   "cell_type": "code",
   "execution_count": 34,
   "metadata": {
    "ExecuteTime": {
     "end_time": "2023-01-12T12:50:12.157140Z",
     "start_time": "2023-01-12T12:50:12.139856Z"
    }
   },
   "outputs": [
    {
     "data": {
      "text/plain": [
       "'Abc'"
      ]
     },
     "execution_count": 34,
     "metadata": {},
     "output_type": "execute_result"
    }
   ],
   "source": [
    "string_1.capitalize() #shift+tab+tab"
   ]
  },
  {
   "cell_type": "code",
   "execution_count": 35,
   "metadata": {
    "ExecuteTime": {
     "end_time": "2023-01-12T12:50:12.173147Z",
     "start_time": "2023-01-12T12:50:12.160160Z"
    }
   },
   "outputs": [
    {
     "data": {
      "text/plain": [
       "'DEF'"
      ]
     },
     "execution_count": 35,
     "metadata": {},
     "output_type": "execute_result"
    }
   ],
   "source": [
    "string_1 = string.upper()\n",
    "string_1"
   ]
  },
  {
   "cell_type": "code",
   "execution_count": 36,
   "metadata": {
    "ExecuteTime": {
     "end_time": "2023-01-12T12:50:12.181794Z",
     "start_time": "2023-01-12T12:50:12.176302Z"
    }
   },
   "outputs": [],
   "source": [
    "string = \"134\"\n",
    "string_3 = int(string)"
   ]
  },
  {
   "cell_type": "code",
   "execution_count": 37,
   "metadata": {
    "ExecuteTime": {
     "end_time": "2023-01-12T12:50:12.197331Z",
     "start_time": "2023-01-12T12:50:12.184990Z"
    }
   },
   "outputs": [
    {
     "data": {
      "text/plain": [
       "int"
      ]
     },
     "execution_count": 37,
     "metadata": {},
     "output_type": "execute_result"
    }
   ],
   "source": [
    "type(string_3)"
   ]
  },
  {
   "cell_type": "markdown",
   "metadata": {},
   "source": [
    "# 3)Lists"
   ]
  },
  {
   "cell_type": "markdown",
   "metadata": {},
   "source": [
    "data structure used to store multiple data types\n",
    "MUTABLE\n",
    "Syntax is []"
   ]
  },
  {
   "cell_type": "code",
   "execution_count": 38,
   "metadata": {
    "ExecuteTime": {
     "end_time": "2023-01-12T12:50:12.212090Z",
     "start_time": "2023-01-12T12:50:12.199326Z"
    }
   },
   "outputs": [
    {
     "name": "stdout",
     "output_type": "stream",
     "text": [
      "[1, 2, 3, 4]\n"
     ]
    }
   ],
   "source": [
    "list_1 = [1, 2, 3, 4]\n",
    "print(list_1)"
   ]
  },
  {
   "cell_type": "code",
   "execution_count": 39,
   "metadata": {
    "ExecuteTime": {
     "end_time": "2023-01-12T12:50:12.229238Z",
     "start_time": "2023-01-12T12:50:12.215980Z"
    }
   },
   "outputs": [
    {
     "name": "stdout",
     "output_type": "stream",
     "text": [
      "<class 'list'>\n"
     ]
    }
   ],
   "source": [
    "print(type(list_1))"
   ]
  },
  {
   "cell_type": "code",
   "execution_count": 40,
   "metadata": {
    "ExecuteTime": {
     "end_time": "2023-01-12T12:50:12.244874Z",
     "start_time": "2023-01-12T12:50:12.232259Z"
    }
   },
   "outputs": [],
   "source": [
    "list_2 = [1, 2, 3.5, 5]"
   ]
  },
  {
   "cell_type": "code",
   "execution_count": 41,
   "metadata": {
    "ExecuteTime": {
     "end_time": "2023-01-12T12:50:12.254007Z",
     "start_time": "2023-01-12T12:50:12.247157Z"
    }
   },
   "outputs": [],
   "source": [
    "list_3 = [\"abc\", 123, 123.5, \"def\", True]"
   ]
  },
  {
   "cell_type": "code",
   "execution_count": 42,
   "metadata": {
    "ExecuteTime": {
     "end_time": "2023-01-12T12:50:12.267864Z",
     "start_time": "2023-01-12T12:50:12.257329Z"
    }
   },
   "outputs": [
    {
     "name": "stdout",
     "output_type": "stream",
     "text": [
      "<class 'str'>\n",
      "<class 'int'>\n",
      "<class 'float'>\n",
      "<class 'str'>\n",
      "<class 'bool'>\n"
     ]
    }
   ],
   "source": [
    "for i in list_3:\n",
    "    print(type(i))"
   ]
  },
  {
   "cell_type": "code",
   "execution_count": 43,
   "metadata": {
    "ExecuteTime": {
     "end_time": "2023-01-12T12:50:12.283261Z",
     "start_time": "2023-01-12T12:50:12.270939Z"
    }
   },
   "outputs": [],
   "source": [
    "list_2[1] = 6\n",
    "list_2[-1] = 5"
   ]
  },
  {
   "cell_type": "code",
   "execution_count": 44,
   "metadata": {
    "ExecuteTime": {
     "end_time": "2023-01-12T12:50:12.299169Z",
     "start_time": "2023-01-12T12:50:12.285256Z"
    }
   },
   "outputs": [
    {
     "data": {
      "text/plain": [
       "[1, 6, 3.5, 5]"
      ]
     },
     "execution_count": 44,
     "metadata": {},
     "output_type": "execute_result"
    }
   ],
   "source": [
    "list_2"
   ]
  },
  {
   "cell_type": "code",
   "execution_count": 45,
   "metadata": {
    "ExecuteTime": {
     "end_time": "2023-01-12T12:50:12.321893Z",
     "start_time": "2023-01-12T12:50:12.302229Z"
    }
   },
   "outputs": [
    {
     "data": {
      "text/plain": [
       "5"
      ]
     },
     "execution_count": 45,
     "metadata": {},
     "output_type": "execute_result"
    }
   ],
   "source": [
    "list_2.pop()"
   ]
  },
  {
   "cell_type": "code",
   "execution_count": 46,
   "metadata": {
    "ExecuteTime": {
     "end_time": "2023-01-12T12:50:12.331294Z",
     "start_time": "2023-01-12T12:50:12.324882Z"
    }
   },
   "outputs": [],
   "source": [
    "languages = [\"C\", \"C++\", \"JAVA\", \"C#\"]"
   ]
  },
  {
   "cell_type": "code",
   "execution_count": 47,
   "metadata": {
    "ExecuteTime": {
     "end_time": "2023-01-12T12:50:12.347227Z",
     "start_time": "2023-01-12T12:50:12.334365Z"
    }
   },
   "outputs": [
    {
     "data": {
      "text/plain": [
       "4"
      ]
     },
     "execution_count": 47,
     "metadata": {},
     "output_type": "execute_result"
    }
   ],
   "source": [
    "len(languages)"
   ]
  },
  {
   "cell_type": "code",
   "execution_count": 48,
   "metadata": {
    "ExecuteTime": {
     "end_time": "2023-01-12T12:50:12.356857Z",
     "start_time": "2023-01-12T12:50:12.352812Z"
    }
   },
   "outputs": [],
   "source": [
    "#Append\n",
    "#Insert\n",
    "#Remove\n",
    "#Pop\n",
    "#Reverse\n",
    "#Sort\n",
    "#Del\n",
    "#Index\n",
    "#Count"
   ]
  },
  {
   "cell_type": "markdown",
   "metadata": {},
   "source": [
    "# Operaters"
   ]
  },
  {
   "cell_type": "code",
   "execution_count": 49,
   "metadata": {
    "ExecuteTime": {
     "end_time": "2023-01-12T12:50:12.370223Z",
     "start_time": "2023-01-12T12:50:12.361198Z"
    }
   },
   "outputs": [],
   "source": [
    "#Addition\n",
    "#Multiplication\n",
    "#Substraction\n",
    "#Division\n",
    "#Moodulo"
   ]
  },
  {
   "cell_type": "code",
   "execution_count": 50,
   "metadata": {
    "ExecuteTime": {
     "end_time": "2023-01-12T12:50:12.379787Z",
     "start_time": "2023-01-12T12:50:12.373240Z"
    }
   },
   "outputs": [],
   "source": [
    "num_var = 3.14"
   ]
  },
  {
   "cell_type": "code",
   "execution_count": 51,
   "metadata": {
    "ExecuteTime": {
     "end_time": "2023-01-12T12:50:12.397101Z",
     "start_time": "2023-01-12T12:50:12.382812Z"
    }
   },
   "outputs": [
    {
     "data": {
      "text/plain": [
       "float"
      ]
     },
     "execution_count": 51,
     "metadata": {},
     "output_type": "execute_result"
    }
   ],
   "source": [
    "type(num_var)"
   ]
  },
  {
   "cell_type": "code",
   "execution_count": 52,
   "metadata": {
    "ExecuteTime": {
     "end_time": "2023-01-12T12:50:12.408520Z",
     "start_time": "2023-01-12T12:50:12.399527Z"
    }
   },
   "outputs": [],
   "source": [
    "num_var_1 = 25"
   ]
  },
  {
   "cell_type": "code",
   "execution_count": 53,
   "metadata": {
    "ExecuteTime": {
     "end_time": "2023-01-12T12:50:12.423765Z",
     "start_time": "2023-01-12T12:50:12.412345Z"
    }
   },
   "outputs": [
    {
     "data": {
      "text/plain": [
       "28.14"
      ]
     },
     "execution_count": 53,
     "metadata": {},
     "output_type": "execute_result"
    }
   ],
   "source": [
    "3.14+25"
   ]
  },
  {
   "cell_type": "code",
   "execution_count": 54,
   "metadata": {
    "ExecuteTime": {
     "end_time": "2023-01-12T12:50:12.435088Z",
     "start_time": "2023-01-12T12:50:12.426797Z"
    }
   },
   "outputs": [
    {
     "data": {
      "text/plain": [
       "28.14"
      ]
     },
     "execution_count": 54,
     "metadata": {},
     "output_type": "execute_result"
    }
   ],
   "source": [
    "num_var+num_var_1"
   ]
  },
  {
   "cell_type": "code",
   "execution_count": 55,
   "metadata": {
    "ExecuteTime": {
     "end_time": "2023-01-12T12:50:12.446774Z",
     "start_time": "2023-01-12T12:50:12.438207Z"
    }
   },
   "outputs": [
    {
     "data": {
      "text/plain": [
       "21.86"
      ]
     },
     "execution_count": 55,
     "metadata": {},
     "output_type": "execute_result"
    }
   ],
   "source": [
    "num_var_1-num_var"
   ]
  },
  {
   "cell_type": "code",
   "execution_count": 56,
   "metadata": {
    "ExecuteTime": {
     "end_time": "2023-01-12T12:50:12.462414Z",
     "start_time": "2023-01-12T12:50:12.449464Z"
    }
   },
   "outputs": [
    {
     "data": {
      "text/plain": [
       "7.961783439490445"
      ]
     },
     "execution_count": 56,
     "metadata": {},
     "output_type": "execute_result"
    }
   ],
   "source": [
    "num_var_1 / num_var"
   ]
  },
  {
   "cell_type": "code",
   "execution_count": 57,
   "metadata": {
    "ExecuteTime": {
     "end_time": "2023-01-12T12:50:12.482336Z",
     "start_time": "2023-01-12T12:50:12.464421Z"
    }
   },
   "outputs": [
    {
     "data": {
      "text/plain": [
       "7.0"
      ]
     },
     "execution_count": 57,
     "metadata": {},
     "output_type": "execute_result"
    }
   ],
   "source": [
    "num_var_1 // num_var"
   ]
  },
  {
   "cell_type": "code",
   "execution_count": 58,
   "metadata": {
    "ExecuteTime": {
     "end_time": "2023-01-12T12:50:12.506690Z",
     "start_time": "2023-01-12T12:50:12.487283Z"
    }
   },
   "outputs": [
    {
     "data": {
      "text/plain": [
       "2"
      ]
     },
     "execution_count": 58,
     "metadata": {},
     "output_type": "execute_result"
    }
   ],
   "source": [
    "18 % 4"
   ]
  },
  {
   "cell_type": "code",
   "execution_count": 59,
   "metadata": {
    "ExecuteTime": {
     "end_time": "2023-01-12T12:50:12.519353Z",
     "start_time": "2023-01-12T12:50:12.509708Z"
    }
   },
   "outputs": [],
   "source": [
    "#Append\n",
    "#Insert\n",
    "#Remove\n",
    "#Pop\n",
    "#Reverse\n",
    "#Sort\n",
    "#Del\n",
    "#Index\n",
    "#Count\n",
    "#Extend"
   ]
  },
  {
   "cell_type": "code",
   "execution_count": 60,
   "metadata": {
    "ExecuteTime": {
     "end_time": "2023-01-12T12:50:12.534130Z",
     "start_time": "2023-01-12T12:50:12.521704Z"
    }
   },
   "outputs": [],
   "source": [
    "# List Operations"
   ]
  },
  {
   "cell_type": "code",
   "execution_count": 61,
   "metadata": {
    "ExecuteTime": {
     "end_time": "2023-01-12T12:50:12.545705Z",
     "start_time": "2023-01-12T12:50:12.536631Z"
    }
   },
   "outputs": [],
   "source": [
    "# Append"
   ]
  },
  {
   "cell_type": "code",
   "execution_count": 62,
   "metadata": {
    "ExecuteTime": {
     "end_time": "2023-01-12T12:50:12.560971Z",
     "start_time": "2023-01-12T12:50:12.548713Z"
    }
   },
   "outputs": [],
   "source": [
    "# Append adds an element/object to the end of the list"
   ]
  },
  {
   "cell_type": "code",
   "execution_count": 63,
   "metadata": {
    "ExecuteTime": {
     "end_time": "2023-01-12T12:50:12.579718Z",
     "start_time": "2023-01-12T12:50:12.563802Z"
    }
   },
   "outputs": [
    {
     "data": {
      "text/plain": [
       "['C', 'C++', 'JAVA', 'C#']"
      ]
     },
     "execution_count": 63,
     "metadata": {},
     "output_type": "execute_result"
    }
   ],
   "source": [
    "languages"
   ]
  },
  {
   "cell_type": "code",
   "execution_count": 64,
   "metadata": {
    "ExecuteTime": {
     "end_time": "2023-01-12T12:50:12.592247Z",
     "start_time": "2023-01-12T12:50:12.582347Z"
    }
   },
   "outputs": [],
   "source": [
    "languages.append(\"Python\")"
   ]
  },
  {
   "cell_type": "code",
   "execution_count": 65,
   "metadata": {
    "ExecuteTime": {
     "end_time": "2023-01-12T12:50:12.612089Z",
     "start_time": "2023-01-12T12:50:12.594329Z"
    }
   },
   "outputs": [
    {
     "name": "stdout",
     "output_type": "stream",
     "text": [
      "['C', 'C++', 'JAVA', 'C#', 'Python']\n"
     ]
    }
   ],
   "source": [
    "print(languages)"
   ]
  },
  {
   "cell_type": "code",
   "execution_count": 66,
   "metadata": {
    "ExecuteTime": {
     "end_time": "2023-01-12T12:50:12.627774Z",
     "start_time": "2023-01-12T12:50:12.619022Z"
    }
   },
   "outputs": [],
   "source": [
    "#Insert"
   ]
  },
  {
   "cell_type": "code",
   "execution_count": 67,
   "metadata": {
    "ExecuteTime": {
     "end_time": "2023-01-12T12:50:12.643157Z",
     "start_time": "2023-01-12T12:50:12.631203Z"
    }
   },
   "outputs": [],
   "source": [
    "# Insterts an object/element at a specified index"
   ]
  },
  {
   "cell_type": "code",
   "execution_count": 68,
   "metadata": {
    "ExecuteTime": {
     "end_time": "2023-01-12T12:50:12.651255Z",
     "start_time": "2023-01-12T12:50:12.646302Z"
    }
   },
   "outputs": [],
   "source": [
    "languages.insert(1,\"Perl\")"
   ]
  },
  {
   "cell_type": "code",
   "execution_count": 69,
   "metadata": {
    "ExecuteTime": {
     "end_time": "2023-01-12T12:50:12.660657Z",
     "start_time": "2023-01-12T12:50:12.654849Z"
    }
   },
   "outputs": [
    {
     "name": "stdout",
     "output_type": "stream",
     "text": [
      "['C', 'Perl', 'C++', 'JAVA', 'C#', 'Python']\n"
     ]
    }
   ],
   "source": [
    "print(languages)"
   ]
  },
  {
   "cell_type": "code",
   "execution_count": 70,
   "metadata": {
    "ExecuteTime": {
     "end_time": "2023-01-12T12:50:12.676473Z",
     "start_time": "2023-01-12T12:50:12.663773Z"
    }
   },
   "outputs": [],
   "source": [
    "#Remove"
   ]
  },
  {
   "cell_type": "code",
   "execution_count": 71,
   "metadata": {
    "ExecuteTime": {
     "end_time": "2023-01-12T12:50:12.691003Z",
     "start_time": "2023-01-12T12:50:12.679180Z"
    }
   },
   "outputs": [
    {
     "data": {
      "text/plain": [
       "['C', 'Perl', 'C++', 'JAVA', 'C#', 'Python']"
      ]
     },
     "execution_count": 71,
     "metadata": {},
     "output_type": "execute_result"
    }
   ],
   "source": [
    "languages"
   ]
  },
  {
   "cell_type": "code",
   "execution_count": 72,
   "metadata": {
    "ExecuteTime": {
     "end_time": "2023-01-12T12:50:12.708100Z",
     "start_time": "2023-01-12T12:50:12.693088Z"
    }
   },
   "outputs": [
    {
     "name": "stdout",
     "output_type": "stream",
     "text": [
      "Help on method_descriptor:\n",
      "\n",
      "remove(self, value, /)\n",
      "    Remove first occurrence of value.\n",
      "    \n",
      "    Raises ValueError if the value is not present.\n",
      "\n"
     ]
    }
   ],
   "source": [
    "help(list.remove)"
   ]
  },
  {
   "cell_type": "code",
   "execution_count": 73,
   "metadata": {
    "ExecuteTime": {
     "end_time": "2023-01-12T12:50:12.724066Z",
     "start_time": "2023-01-12T12:50:12.714347Z"
    }
   },
   "outputs": [
    {
     "data": {
      "text/plain": [
       "['C', 'Perl', 'C++', 'C#', 'Python']"
      ]
     },
     "execution_count": 73,
     "metadata": {},
     "output_type": "execute_result"
    }
   ],
   "source": [
    "languages.remove(\"JAVA\")\n",
    "languages"
   ]
  },
  {
   "cell_type": "code",
   "execution_count": 74,
   "metadata": {
    "ExecuteTime": {
     "end_time": "2023-01-12T12:50:12.737852Z",
     "start_time": "2023-01-12T12:50:12.727108Z"
    }
   },
   "outputs": [],
   "source": [
    "languages.append(\"JAVA\")"
   ]
  },
  {
   "cell_type": "code",
   "execution_count": 75,
   "metadata": {
    "ExecuteTime": {
     "end_time": "2023-01-12T12:50:12.753266Z",
     "start_time": "2023-01-12T12:50:12.740684Z"
    }
   },
   "outputs": [
    {
     "data": {
      "text/plain": [
       "['C', 'Perl', 'C++', 'C#', 'Python', 'JAVA']"
      ]
     },
     "execution_count": 75,
     "metadata": {},
     "output_type": "execute_result"
    }
   ],
   "source": [
    "languages"
   ]
  },
  {
   "cell_type": "code",
   "execution_count": 76,
   "metadata": {
    "ExecuteTime": {
     "end_time": "2023-01-12T12:50:12.764399Z",
     "start_time": "2023-01-12T12:50:12.756314Z"
    }
   },
   "outputs": [],
   "source": [
    "#Pop"
   ]
  },
  {
   "cell_type": "code",
   "execution_count": 77,
   "metadata": {
    "ExecuteTime": {
     "end_time": "2023-01-12T12:50:12.773051Z",
     "start_time": "2023-01-12T12:50:12.767159Z"
    }
   },
   "outputs": [],
   "source": [
    "# Remove an object/element based on index. By default the index is -1 (last element)"
   ]
  },
  {
   "cell_type": "code",
   "execution_count": 78,
   "metadata": {
    "ExecuteTime": {
     "end_time": "2023-01-12T12:50:12.788954Z",
     "start_time": "2023-01-12T12:50:12.776559Z"
    }
   },
   "outputs": [
    {
     "data": {
      "text/plain": [
       "['C', 'Perl', 'C++', 'C#', 'Python', 'JAVA']"
      ]
     },
     "execution_count": 78,
     "metadata": {},
     "output_type": "execute_result"
    }
   ],
   "source": [
    "languages"
   ]
  },
  {
   "cell_type": "code",
   "execution_count": 79,
   "metadata": {
    "ExecuteTime": {
     "end_time": "2023-01-12T12:50:12.808596Z",
     "start_time": "2023-01-12T12:50:12.793516Z"
    }
   },
   "outputs": [
    {
     "data": {
      "text/plain": [
       "['C', 'Perl', 'C++', 'C#', 'Python']"
      ]
     },
     "execution_count": 79,
     "metadata": {},
     "output_type": "execute_result"
    }
   ],
   "source": [
    "languages.pop()\n",
    "languages"
   ]
  },
  {
   "cell_type": "code",
   "execution_count": 80,
   "metadata": {
    "ExecuteTime": {
     "end_time": "2023-01-12T12:50:12.835530Z",
     "start_time": "2023-01-12T12:50:12.811901Z"
    }
   },
   "outputs": [],
   "source": [
    "#Using Del keyword"
   ]
  },
  {
   "cell_type": "code",
   "execution_count": 81,
   "metadata": {
    "ExecuteTime": {
     "end_time": "2023-01-12T12:50:12.947978Z",
     "start_time": "2023-01-12T12:50:12.842808Z"
    }
   },
   "outputs": [
    {
     "data": {
      "text/plain": [
       "['C', 'Perl', 'C++', 'C#', 'Python']"
      ]
     },
     "execution_count": 81,
     "metadata": {},
     "output_type": "execute_result"
    }
   ],
   "source": [
    "languages"
   ]
  },
  {
   "cell_type": "code",
   "execution_count": 82,
   "metadata": {
    "ExecuteTime": {
     "end_time": "2023-01-12T12:50:12.980824Z",
     "start_time": "2023-01-12T12:50:12.966750Z"
    }
   },
   "outputs": [],
   "source": [
    "languages.append(\"JAVA\")"
   ]
  },
  {
   "cell_type": "code",
   "execution_count": 83,
   "metadata": {
    "ExecuteTime": {
     "end_time": "2023-01-12T12:50:12.992669Z",
     "start_time": "2023-01-12T12:50:12.982820Z"
    }
   },
   "outputs": [
    {
     "data": {
      "text/plain": [
       "['C', 'Perl', 'C++', 'C#', 'Python', 'JAVA']"
      ]
     },
     "execution_count": 83,
     "metadata": {},
     "output_type": "execute_result"
    }
   ],
   "source": [
    "languages"
   ]
  },
  {
   "cell_type": "code",
   "execution_count": 84,
   "metadata": {
    "ExecuteTime": {
     "end_time": "2023-01-12T12:50:13.015546Z",
     "start_time": "2023-01-12T12:50:13.001780Z"
    }
   },
   "outputs": [],
   "source": [
    "languages.append(\"Javascript\")"
   ]
  },
  {
   "cell_type": "code",
   "execution_count": 85,
   "metadata": {
    "ExecuteTime": {
     "end_time": "2023-01-12T12:50:13.031334Z",
     "start_time": "2023-01-12T12:50:13.019223Z"
    }
   },
   "outputs": [
    {
     "data": {
      "text/plain": [
       "['C', 'Perl', 'C++', 'C#', 'Python', 'JAVA', 'Javascript']"
      ]
     },
     "execution_count": 85,
     "metadata": {},
     "output_type": "execute_result"
    }
   ],
   "source": [
    "languages"
   ]
  },
  {
   "cell_type": "code",
   "execution_count": 86,
   "metadata": {
    "ExecuteTime": {
     "end_time": "2023-01-12T12:50:13.047544Z",
     "start_time": "2023-01-12T12:50:13.031334Z"
    }
   },
   "outputs": [],
   "source": [
    "del languages[2]"
   ]
  },
  {
   "cell_type": "code",
   "execution_count": 87,
   "metadata": {
    "ExecuteTime": {
     "end_time": "2023-01-12T12:50:13.065766Z",
     "start_time": "2023-01-12T12:50:13.050575Z"
    }
   },
   "outputs": [
    {
     "data": {
      "text/plain": [
       "['C', 'Perl', 'C#', 'Python', 'JAVA', 'Javascript']"
      ]
     },
     "execution_count": 87,
     "metadata": {},
     "output_type": "execute_result"
    }
   ],
   "source": [
    "languages"
   ]
  },
  {
   "cell_type": "code",
   "execution_count": 88,
   "metadata": {
    "ExecuteTime": {
     "end_time": "2023-01-12T12:50:13.074538Z",
     "start_time": "2023-01-12T12:50:13.070713Z"
    }
   },
   "outputs": [],
   "source": [
    "del languages[0:3]"
   ]
  },
  {
   "cell_type": "code",
   "execution_count": 89,
   "metadata": {
    "ExecuteTime": {
     "end_time": "2023-01-12T12:50:13.095643Z",
     "start_time": "2023-01-12T12:50:13.079705Z"
    }
   },
   "outputs": [
    {
     "data": {
      "text/plain": [
       "['Python', 'JAVA', 'Javascript']"
      ]
     },
     "execution_count": 89,
     "metadata": {},
     "output_type": "execute_result"
    }
   ],
   "source": [
    "languages"
   ]
  },
  {
   "cell_type": "code",
   "execution_count": 90,
   "metadata": {
    "ExecuteTime": {
     "end_time": "2023-01-12T12:50:13.104407Z",
     "start_time": "2023-01-12T12:50:13.097692Z"
    }
   },
   "outputs": [],
   "source": [
    "#Del keyword deletes specific index location and also slicing can be used in the same [], also if whole variable is to be deleted /nlanguses\n"
   ]
  },
  {
   "cell_type": "code",
   "execution_count": 91,
   "metadata": {
    "ExecuteTime": {
     "end_time": "2023-01-12T12:50:13.121322Z",
     "start_time": "2023-01-12T12:50:13.107851Z"
    }
   },
   "outputs": [
    {
     "data": {
      "text/plain": [
       "['Python', 'JAVA', 'Javascript']"
      ]
     },
     "execution_count": 91,
     "metadata": {},
     "output_type": "execute_result"
    }
   ],
   "source": [
    "languages"
   ]
  },
  {
   "cell_type": "code",
   "execution_count": 92,
   "metadata": {
    "ExecuteTime": {
     "end_time": "2023-01-12T12:50:13.139388Z",
     "start_time": "2023-01-12T12:50:13.124088Z"
    }
   },
   "outputs": [],
   "source": [
    "del languages[0]"
   ]
  },
  {
   "cell_type": "code",
   "execution_count": 93,
   "metadata": {
    "ExecuteTime": {
     "end_time": "2023-01-12T12:50:13.158254Z",
     "start_time": "2023-01-12T12:50:13.143150Z"
    }
   },
   "outputs": [
    {
     "data": {
      "text/plain": [
       "['JAVA', 'Javascript']"
      ]
     },
     "execution_count": 93,
     "metadata": {},
     "output_type": "execute_result"
    }
   ],
   "source": [
    "languages"
   ]
  },
  {
   "cell_type": "code",
   "execution_count": 94,
   "metadata": {
    "ExecuteTime": {
     "end_time": "2023-01-12T12:50:13.178957Z",
     "start_time": "2023-01-12T12:50:13.162535Z"
    }
   },
   "outputs": [],
   "source": [
    "del languages[0:2]"
   ]
  },
  {
   "cell_type": "code",
   "execution_count": 95,
   "metadata": {
    "ExecuteTime": {
     "end_time": "2023-01-12T12:50:13.194135Z",
     "start_time": "2023-01-12T12:50:13.181846Z"
    }
   },
   "outputs": [
    {
     "data": {
      "text/plain": [
       "[]"
      ]
     },
     "execution_count": 95,
     "metadata": {},
     "output_type": "execute_result"
    }
   ],
   "source": [
    "languages"
   ]
  },
  {
   "cell_type": "code",
   "execution_count": 96,
   "metadata": {
    "ExecuteTime": {
     "end_time": "2023-01-12T12:50:13.206007Z",
     "start_time": "2023-01-12T12:50:13.199243Z"
    }
   },
   "outputs": [],
   "source": [
    "del languages"
   ]
  },
  {
   "cell_type": "code",
   "execution_count": 97,
   "metadata": {
    "ExecuteTime": {
     "end_time": "2023-01-12T12:50:13.222798Z",
     "start_time": "2023-01-12T12:50:13.209888Z"
    }
   },
   "outputs": [],
   "source": [
    "languages = ['JAVA', 'C#', 'Python', 'SCALA', 'Javascript']"
   ]
  },
  {
   "cell_type": "code",
   "execution_count": 98,
   "metadata": {
    "ExecuteTime": {
     "end_time": "2023-01-12T12:50:13.246024Z",
     "start_time": "2023-01-12T12:50:13.226553Z"
    }
   },
   "outputs": [
    {
     "data": {
      "text/plain": [
       "['JAVA', 'C#', 'Python', 'SCALA', 'Javascript']"
      ]
     },
     "execution_count": 98,
     "metadata": {},
     "output_type": "execute_result"
    }
   ],
   "source": [
    "languages"
   ]
  },
  {
   "cell_type": "code",
   "execution_count": 99,
   "metadata": {
    "ExecuteTime": {
     "end_time": "2023-01-12T12:50:13.262064Z",
     "start_time": "2023-01-12T12:50:13.248949Z"
    }
   },
   "outputs": [
    {
     "data": {
      "text/plain": [
       "list"
      ]
     },
     "execution_count": 99,
     "metadata": {},
     "output_type": "execute_result"
    }
   ],
   "source": [
    "type(languages)"
   ]
  },
  {
   "cell_type": "code",
   "execution_count": 100,
   "metadata": {
    "ExecuteTime": {
     "end_time": "2023-01-12T12:50:13.270480Z",
     "start_time": "2023-01-12T12:50:13.265658Z"
    }
   },
   "outputs": [],
   "source": [
    "string = \"abcd\""
   ]
  },
  {
   "cell_type": "code",
   "execution_count": 101,
   "metadata": {
    "ExecuteTime": {
     "end_time": "2023-01-12T12:50:13.282168Z",
     "start_time": "2023-01-12T12:50:13.273671Z"
    }
   },
   "outputs": [
    {
     "data": {
      "text/plain": [
       "str"
      ]
     },
     "execution_count": 101,
     "metadata": {},
     "output_type": "execute_result"
    }
   ],
   "source": [
    "type(string)"
   ]
  },
  {
   "cell_type": "code",
   "execution_count": 102,
   "metadata": {
    "ExecuteTime": {
     "end_time": "2023-01-12T12:50:13.303136Z",
     "start_time": "2023-01-12T12:50:13.284875Z"
    }
   },
   "outputs": [],
   "source": [
    "del string"
   ]
  },
  {
   "cell_type": "code",
   "execution_count": 103,
   "metadata": {
    "ExecuteTime": {
     "end_time": "2023-01-12T12:50:13.323859Z",
     "start_time": "2023-01-12T12:50:13.307057Z"
    }
   },
   "outputs": [
    {
     "data": {
      "text/plain": [
       "['JAVA', 'C#', 'Python', 'SCALA', 'Javascript']"
      ]
     },
     "execution_count": 103,
     "metadata": {},
     "output_type": "execute_result"
    }
   ],
   "source": [
    "languages"
   ]
  },
  {
   "cell_type": "code",
   "execution_count": 104,
   "metadata": {
    "ExecuteTime": {
     "end_time": "2023-01-12T12:50:13.340946Z",
     "start_time": "2023-01-12T12:50:13.327878Z"
    }
   },
   "outputs": [],
   "source": [
    "num_list = [100,200,300]"
   ]
  },
  {
   "cell_type": "code",
   "execution_count": 105,
   "metadata": {
    "ExecuteTime": {
     "end_time": "2023-01-12T12:50:13.355390Z",
     "start_time": "2023-01-12T12:50:13.347302Z"
    }
   },
   "outputs": [
    {
     "name": "stdout",
     "output_type": "stream",
     "text": [
      "[100, 200, 300]\n"
     ]
    }
   ],
   "source": [
    "print(num_list)"
   ]
  },
  {
   "cell_type": "code",
   "execution_count": 106,
   "metadata": {
    "ExecuteTime": {
     "end_time": "2023-01-12T12:50:13.365817Z",
     "start_time": "2023-01-12T12:50:13.359375Z"
    }
   },
   "outputs": [],
   "source": [
    "languages.append(num_list)"
   ]
  },
  {
   "cell_type": "code",
   "execution_count": 107,
   "metadata": {
    "ExecuteTime": {
     "end_time": "2023-01-12T12:50:13.384788Z",
     "start_time": "2023-01-12T12:50:13.368825Z"
    }
   },
   "outputs": [
    {
     "data": {
      "text/plain": [
       "['JAVA', 'C#', 'Python', 'SCALA', 'Javascript', [100, 200, 300]]"
      ]
     },
     "execution_count": 107,
     "metadata": {},
     "output_type": "execute_result"
    }
   ],
   "source": [
    "languages"
   ]
  },
  {
   "cell_type": "code",
   "execution_count": 108,
   "metadata": {
    "ExecuteTime": {
     "end_time": "2023-01-12T12:50:13.405460Z",
     "start_time": "2023-01-12T12:50:13.389031Z"
    }
   },
   "outputs": [
    {
     "data": {
      "text/plain": [
       "6"
      ]
     },
     "execution_count": 108,
     "metadata": {},
     "output_type": "execute_result"
    }
   ],
   "source": [
    "len(languages)"
   ]
  },
  {
   "cell_type": "code",
   "execution_count": 109,
   "metadata": {
    "ExecuteTime": {
     "end_time": "2023-01-12T12:50:13.416765Z",
     "start_time": "2023-01-12T12:50:13.408536Z"
    }
   },
   "outputs": [
    {
     "data": {
      "text/plain": [
       "200"
      ]
     },
     "execution_count": 109,
     "metadata": {},
     "output_type": "execute_result"
    }
   ],
   "source": [
    "languages[5][1]"
   ]
  },
  {
   "cell_type": "code",
   "execution_count": 110,
   "metadata": {
    "ExecuteTime": {
     "end_time": "2023-01-12T12:50:13.431534Z",
     "start_time": "2023-01-12T12:50:13.420003Z"
    }
   },
   "outputs": [
    {
     "data": {
      "text/plain": [
       "200"
      ]
     },
     "execution_count": 110,
     "metadata": {},
     "output_type": "execute_result"
    }
   ],
   "source": [
    "languages[-1][1]"
   ]
  },
  {
   "cell_type": "code",
   "execution_count": 111,
   "metadata": {
    "ExecuteTime": {
     "end_time": "2023-01-12T12:50:13.441277Z",
     "start_time": "2023-01-12T12:50:13.435218Z"
    }
   },
   "outputs": [],
   "source": [
    "languages.append(['JAVA', 'C#', 'Python', 'SCALA', 'Javascript', [100, 200, 300]])"
   ]
  },
  {
   "cell_type": "code",
   "execution_count": 112,
   "metadata": {
    "ExecuteTime": {
     "end_time": "2023-01-12T12:50:13.458150Z",
     "start_time": "2023-01-12T12:50:13.445138Z"
    }
   },
   "outputs": [
    {
     "data": {
      "text/plain": [
       "['JAVA',\n",
       " 'C#',\n",
       " 'Python',\n",
       " 'SCALA',\n",
       " 'Javascript',\n",
       " [100, 200, 300],\n",
       " ['JAVA', 'C#', 'Python', 'SCALA', 'Javascript', [100, 200, 300]]]"
      ]
     },
     "execution_count": 112,
     "metadata": {},
     "output_type": "execute_result"
    }
   ],
   "source": [
    "languages"
   ]
  },
  {
   "cell_type": "code",
   "execution_count": 113,
   "metadata": {
    "ExecuteTime": {
     "end_time": "2023-01-12T12:50:13.472233Z",
     "start_time": "2023-01-12T12:50:13.462289Z"
    }
   },
   "outputs": [],
   "source": [
    "lis = [1,2,3]"
   ]
  },
  {
   "cell_type": "code",
   "execution_count": 114,
   "metadata": {
    "ExecuteTime": {
     "end_time": "2023-01-12T12:50:13.482793Z",
     "start_time": "2023-01-12T12:50:13.476258Z"
    }
   },
   "outputs": [],
   "source": [
    "for i in lis:\n",
    "    languages.append(i)"
   ]
  },
  {
   "cell_type": "code",
   "execution_count": 115,
   "metadata": {
    "ExecuteTime": {
     "end_time": "2023-01-12T12:50:13.500902Z",
     "start_time": "2023-01-12T12:50:13.487552Z"
    }
   },
   "outputs": [
    {
     "data": {
      "text/plain": [
       "['JAVA',\n",
       " 'C#',\n",
       " 'Python',\n",
       " 'SCALA',\n",
       " 'Javascript',\n",
       " [100, 200, 300],\n",
       " ['JAVA', 'C#', 'Python', 'SCALA', 'Javascript', [100, 200, 300]],\n",
       " 1,\n",
       " 2,\n",
       " 3]"
      ]
     },
     "execution_count": 115,
     "metadata": {},
     "output_type": "execute_result"
    }
   ],
   "source": [
    "languages"
   ]
  },
  {
   "cell_type": "code",
   "execution_count": 116,
   "metadata": {
    "ExecuteTime": {
     "end_time": "2023-01-12T12:50:13.515563Z",
     "start_time": "2023-01-12T12:50:13.507152Z"
    }
   },
   "outputs": [],
   "source": [
    "#Extend"
   ]
  },
  {
   "cell_type": "code",
   "execution_count": 117,
   "metadata": {
    "ExecuteTime": {
     "end_time": "2023-01-12T12:50:13.526557Z",
     "start_time": "2023-01-12T12:50:13.518032Z"
    }
   },
   "outputs": [],
   "source": [
    "# Extends the list with the elements of the container/object passed\n",
    "# Increased the length list"
   ]
  },
  {
   "cell_type": "code",
   "execution_count": 118,
   "metadata": {
    "ExecuteTime": {
     "end_time": "2023-01-12T12:50:13.541090Z",
     "start_time": "2023-01-12T12:50:13.529551Z"
    }
   },
   "outputs": [
    {
     "data": {
      "text/plain": [
       "['JAVA',\n",
       " 'C#',\n",
       " 'Python',\n",
       " 'SCALA',\n",
       " 'Javascript',\n",
       " [100, 200, 300],\n",
       " ['JAVA', 'C#', 'Python', 'SCALA', 'Javascript', [100, 200, 300]],\n",
       " 1,\n",
       " 2,\n",
       " 3]"
      ]
     },
     "execution_count": 118,
     "metadata": {},
     "output_type": "execute_result"
    }
   ],
   "source": [
    "languages"
   ]
  },
  {
   "cell_type": "code",
   "execution_count": 119,
   "metadata": {
    "ExecuteTime": {
     "end_time": "2023-01-12T12:50:13.555901Z",
     "start_time": "2023-01-12T12:50:13.544152Z"
    }
   },
   "outputs": [],
   "source": [
    "another_list = [\"TCS\", \"IBM\", \"INFY\"]"
   ]
  },
  {
   "cell_type": "code",
   "execution_count": 120,
   "metadata": {
    "ExecuteTime": {
     "end_time": "2023-01-12T12:50:13.581310Z",
     "start_time": "2023-01-12T12:50:13.560416Z"
    }
   },
   "outputs": [
    {
     "data": {
      "text/plain": [
       "10"
      ]
     },
     "execution_count": 120,
     "metadata": {},
     "output_type": "execute_result"
    }
   ],
   "source": [
    "len(languages)"
   ]
  },
  {
   "cell_type": "code",
   "execution_count": 121,
   "metadata": {
    "ExecuteTime": {
     "end_time": "2023-01-12T12:50:13.601888Z",
     "start_time": "2023-01-12T12:50:13.584226Z"
    }
   },
   "outputs": [],
   "source": [
    "languages.extend(another_list)"
   ]
  },
  {
   "cell_type": "code",
   "execution_count": 122,
   "metadata": {
    "ExecuteTime": {
     "end_time": "2023-01-12T12:50:13.619711Z",
     "start_time": "2023-01-12T12:50:13.606208Z"
    }
   },
   "outputs": [
    {
     "data": {
      "text/plain": [
       "['JAVA',\n",
       " 'C#',\n",
       " 'Python',\n",
       " 'SCALA',\n",
       " 'Javascript',\n",
       " [100, 200, 300],\n",
       " ['JAVA', 'C#', 'Python', 'SCALA', 'Javascript', [100, 200, 300]],\n",
       " 1,\n",
       " 2,\n",
       " 3,\n",
       " 'TCS',\n",
       " 'IBM',\n",
       " 'INFY']"
      ]
     },
     "execution_count": 122,
     "metadata": {},
     "output_type": "execute_result"
    }
   ],
   "source": [
    "languages"
   ]
  },
  {
   "cell_type": "code",
   "execution_count": 123,
   "metadata": {
    "ExecuteTime": {
     "end_time": "2023-01-12T12:50:13.635897Z",
     "start_time": "2023-01-12T12:50:13.621970Z"
    }
   },
   "outputs": [],
   "source": [
    "languages.extend([\"another_list\"])"
   ]
  },
  {
   "cell_type": "code",
   "execution_count": 124,
   "metadata": {
    "ExecuteTime": {
     "end_time": "2023-01-12T12:50:13.655032Z",
     "start_time": "2023-01-12T12:50:13.638874Z"
    }
   },
   "outputs": [
    {
     "data": {
      "text/plain": [
       "['JAVA',\n",
       " 'C#',\n",
       " 'Python',\n",
       " 'SCALA',\n",
       " 'Javascript',\n",
       " [100, 200, 300],\n",
       " ['JAVA', 'C#', 'Python', 'SCALA', 'Javascript', [100, 200, 300]],\n",
       " 1,\n",
       " 2,\n",
       " 3,\n",
       " 'TCS',\n",
       " 'IBM',\n",
       " 'INFY',\n",
       " 'another_list']"
      ]
     },
     "execution_count": 124,
     "metadata": {},
     "output_type": "execute_result"
    }
   ],
   "source": [
    "languages"
   ]
  },
  {
   "cell_type": "code",
   "execution_count": 125,
   "metadata": {
    "ExecuteTime": {
     "end_time": "2023-01-12T12:50:13.673119Z",
     "start_time": "2023-01-12T12:50:13.658648Z"
    }
   },
   "outputs": [
    {
     "data": {
      "text/plain": [
       "14"
      ]
     },
     "execution_count": 125,
     "metadata": {},
     "output_type": "execute_result"
    }
   ],
   "source": [
    "len(languages)"
   ]
  },
  {
   "cell_type": "code",
   "execution_count": 126,
   "metadata": {
    "ExecuteTime": {
     "end_time": "2023-01-12T12:50:13.687563Z",
     "start_time": "2023-01-12T12:50:13.676111Z"
    }
   },
   "outputs": [],
   "source": [
    "#Count"
   ]
  },
  {
   "cell_type": "code",
   "execution_count": 127,
   "metadata": {
    "ExecuteTime": {
     "end_time": "2023-01-12T12:50:13.698996Z",
     "start_time": "2023-01-12T12:50:13.691691Z"
    }
   },
   "outputs": [],
   "source": [
    "languages = ['JAVA',\n",
    " 'C#',\n",
    " 'Python',\n",
    " 'SCALA',\n",
    " 'Javascript', 'JAVA']"
   ]
  },
  {
   "cell_type": "code",
   "execution_count": 128,
   "metadata": {
    "ExecuteTime": {
     "end_time": "2023-01-12T12:50:13.716872Z",
     "start_time": "2023-01-12T12:50:13.702504Z"
    }
   },
   "outputs": [
    {
     "data": {
      "text/plain": [
       "['JAVA', 'C#', 'Python', 'SCALA', 'Javascript', 'JAVA']"
      ]
     },
     "execution_count": 128,
     "metadata": {},
     "output_type": "execute_result"
    }
   ],
   "source": [
    "languages"
   ]
  },
  {
   "cell_type": "code",
   "execution_count": 129,
   "metadata": {
    "ExecuteTime": {
     "end_time": "2023-01-12T12:50:13.732938Z",
     "start_time": "2023-01-12T12:50:13.719856Z"
    }
   },
   "outputs": [
    {
     "data": {
      "text/plain": [
       "2"
      ]
     },
     "execution_count": 129,
     "metadata": {},
     "output_type": "execute_result"
    }
   ],
   "source": [
    "languages.count(\"JAVA\")"
   ]
  },
  {
   "cell_type": "code",
   "execution_count": 130,
   "metadata": {
    "ExecuteTime": {
     "end_time": "2023-01-12T12:50:13.743284Z",
     "start_time": "2023-01-12T12:50:13.735676Z"
    }
   },
   "outputs": [],
   "source": [
    "#Index"
   ]
  },
  {
   "cell_type": "code",
   "execution_count": 131,
   "metadata": {
    "ExecuteTime": {
     "end_time": "2023-01-12T12:50:13.765705Z",
     "start_time": "2023-01-12T12:50:13.747028Z"
    }
   },
   "outputs": [
    {
     "data": {
      "text/plain": [
       "0"
      ]
     },
     "execution_count": 131,
     "metadata": {},
     "output_type": "execute_result"
    }
   ],
   "source": [
    "languages.index(\"JAVA\")"
   ]
  },
  {
   "cell_type": "code",
   "execution_count": 132,
   "metadata": {
    "ExecuteTime": {
     "end_time": "2023-01-12T12:50:13.783220Z",
     "start_time": "2023-01-12T12:50:13.767855Z"
    }
   },
   "outputs": [],
   "source": [
    "#Mutable vs Immutable"
   ]
  },
  {
   "cell_type": "code",
   "execution_count": 133,
   "metadata": {
    "ExecuteTime": {
     "end_time": "2023-01-12T12:50:13.807543Z",
     "start_time": "2023-01-12T12:50:13.786761Z"
    }
   },
   "outputs": [
    {
     "name": "stdout",
     "output_type": "stream",
     "text": [
      "abcdef\n"
     ]
    },
    {
     "data": {
      "text/plain": [
       "str"
      ]
     },
     "execution_count": 133,
     "metadata": {},
     "output_type": "execute_result"
    }
   ],
   "source": [
    "s = \"abcdef\"\n",
    "print(s)\n",
    "type(s)"
   ]
  },
  {
   "cell_type": "code",
   "execution_count": 134,
   "metadata": {
    "ExecuteTime": {
     "end_time": "2023-01-12T12:50:13.827492Z",
     "start_time": "2023-01-12T12:50:13.812326Z"
    }
   },
   "outputs": [
    {
     "name": "stdout",
     "output_type": "stream",
     "text": [
      "['JAVA', 'C#', 'Python', 'SCALA', 'Javascript', 'JAVA']\n",
      "<class 'list'>\n"
     ]
    }
   ],
   "source": [
    "print(languages)\n",
    "print(type(languages))"
   ]
  },
  {
   "cell_type": "code",
   "execution_count": 135,
   "metadata": {
    "ExecuteTime": {
     "end_time": "2023-01-12T12:50:13.838016Z",
     "start_time": "2023-01-12T12:50:13.832061Z"
    }
   },
   "outputs": [],
   "source": [
    "languages[0] = \"Perl\""
   ]
  },
  {
   "cell_type": "code",
   "execution_count": 136,
   "metadata": {
    "ExecuteTime": {
     "end_time": "2023-01-12T12:50:13.857651Z",
     "start_time": "2023-01-12T12:50:13.843259Z"
    }
   },
   "outputs": [
    {
     "data": {
      "text/plain": [
       "['Perl', 'C#', 'Python', 'SCALA', 'Javascript', 'JAVA']"
      ]
     },
     "execution_count": 136,
     "metadata": {},
     "output_type": "execute_result"
    }
   ],
   "source": [
    "languages"
   ]
  },
  {
   "cell_type": "code",
   "execution_count": 137,
   "metadata": {
    "ExecuteTime": {
     "end_time": "2023-01-12T12:50:13.880841Z",
     "start_time": "2023-01-12T12:50:13.860977Z"
    }
   },
   "outputs": [
    {
     "data": {
      "text/plain": [
       "'a'"
      ]
     },
     "execution_count": 137,
     "metadata": {},
     "output_type": "execute_result"
    }
   ],
   "source": [
    "s[0]"
   ]
  },
  {
   "cell_type": "code",
   "execution_count": 138,
   "metadata": {
    "ExecuteTime": {
     "end_time": "2023-01-12T12:50:13.892038Z",
     "start_time": "2023-01-12T12:50:13.883291Z"
    }
   },
   "outputs": [],
   "source": [
    "## Mutable: list, dict, set\n",
    "## Immutable: tuple, strings, int, float, bool"
   ]
  },
  {
   "cell_type": "code",
   "execution_count": 139,
   "metadata": {
    "ExecuteTime": {
     "end_time": "2023-01-12T12:50:13.902829Z",
     "start_time": "2023-01-12T12:50:13.895129Z"
    }
   },
   "outputs": [],
   "source": [
    "#sort"
   ]
  },
  {
   "cell_type": "code",
   "execution_count": 140,
   "metadata": {
    "ExecuteTime": {
     "end_time": "2023-01-12T12:50:13.920329Z",
     "start_time": "2023-01-12T12:50:13.905018Z"
    }
   },
   "outputs": [
    {
     "data": {
      "text/plain": [
       "['Perl', 'C#', 'Python', 'SCALA', 'Javascript', 'JAVA']"
      ]
     },
     "execution_count": 140,
     "metadata": {},
     "output_type": "execute_result"
    }
   ],
   "source": [
    "languages"
   ]
  },
  {
   "cell_type": "code",
   "execution_count": 141,
   "metadata": {
    "ExecuteTime": {
     "end_time": "2023-01-12T12:50:13.929707Z",
     "start_time": "2023-01-12T12:50:13.925478Z"
    }
   },
   "outputs": [],
   "source": [
    "languages.sort()"
   ]
  },
  {
   "cell_type": "code",
   "execution_count": 142,
   "metadata": {
    "ExecuteTime": {
     "end_time": "2023-01-12T12:50:13.947010Z",
     "start_time": "2023-01-12T12:50:13.933777Z"
    }
   },
   "outputs": [
    {
     "name": "stdout",
     "output_type": "stream",
     "text": [
      "['C#', 'JAVA', 'Javascript', 'Perl', 'Python', 'SCALA']\n"
     ]
    }
   ],
   "source": [
    "print(languages)"
   ]
  },
  {
   "cell_type": "code",
   "execution_count": 143,
   "metadata": {
    "ExecuteTime": {
     "end_time": "2023-01-12T12:50:13.956062Z",
     "start_time": "2023-01-12T12:50:13.950004Z"
    }
   },
   "outputs": [],
   "source": [
    "#Reverse"
   ]
  },
  {
   "cell_type": "code",
   "execution_count": 144,
   "metadata": {
    "ExecuteTime": {
     "end_time": "2023-01-12T12:50:13.969428Z",
     "start_time": "2023-01-12T12:50:13.959837Z"
    }
   },
   "outputs": [],
   "source": [
    "languages.reverse()"
   ]
  },
  {
   "cell_type": "code",
   "execution_count": 145,
   "metadata": {
    "ExecuteTime": {
     "end_time": "2023-01-12T12:50:13.986900Z",
     "start_time": "2023-01-12T12:50:13.975669Z"
    }
   },
   "outputs": [],
   "source": [
    "lst1 = [\"cat\", \"elephant\", \"dog\"]"
   ]
  },
  {
   "cell_type": "code",
   "execution_count": 146,
   "metadata": {
    "ExecuteTime": {
     "end_time": "2023-01-12T12:50:14.002445Z",
     "start_time": "2023-01-12T12:50:13.989893Z"
    }
   },
   "outputs": [
    {
     "data": {
      "text/plain": [
       "['dog', 'elephant', 'cat']"
      ]
     },
     "execution_count": 146,
     "metadata": {},
     "output_type": "execute_result"
    }
   ],
   "source": [
    "lst1.reverse()\n",
    "lst1"
   ]
  },
  {
   "cell_type": "code",
   "execution_count": 147,
   "metadata": {
    "ExecuteTime": {
     "end_time": "2023-01-12T12:50:14.017951Z",
     "start_time": "2023-01-12T12:50:14.008623Z"
    }
   },
   "outputs": [],
   "source": [
    "lst2= [200,300,100]"
   ]
  },
  {
   "cell_type": "code",
   "execution_count": 148,
   "metadata": {
    "ExecuteTime": {
     "end_time": "2023-01-12T12:50:14.034826Z",
     "start_time": "2023-01-12T12:50:14.020943Z"
    }
   },
   "outputs": [
    {
     "data": {
      "text/plain": [
       "[300, 200, 100]"
      ]
     },
     "execution_count": 148,
     "metadata": {},
     "output_type": "execute_result"
    }
   ],
   "source": [
    "lst2.sort(reverse=True)\n",
    "lst2"
   ]
  },
  {
   "cell_type": "code",
   "execution_count": 149,
   "metadata": {
    "ExecuteTime": {
     "end_time": "2023-01-12T12:50:14.050266Z",
     "start_time": "2023-01-12T12:50:14.038815Z"
    }
   },
   "outputs": [
    {
     "data": {
      "text/plain": [
       "['dog', 'elephant', 'cat', 300, 200, 100]"
      ]
     },
     "execution_count": 149,
     "metadata": {},
     "output_type": "execute_result"
    }
   ],
   "source": [
    "lst1+lst2"
   ]
  },
  {
   "cell_type": "code",
   "execution_count": null,
   "metadata": {},
   "outputs": [],
   "source": []
  },
  {
   "cell_type": "code",
   "execution_count": null,
   "metadata": {},
   "outputs": [],
   "source": []
  },
  {
   "cell_type": "code",
   "execution_count": null,
   "metadata": {},
   "outputs": [],
   "source": []
  },
  {
   "cell_type": "code",
   "execution_count": null,
   "metadata": {},
   "outputs": [],
   "source": []
  }
 ],
 "metadata": {
  "kernelspec": {
   "display_name": "Python 3 (ipykernel)",
   "language": "python",
   "name": "python3"
  },
  "language_info": {
   "codemirror_mode": {
    "name": "ipython",
    "version": 3
   },
   "file_extension": ".py",
   "mimetype": "text/x-python",
   "name": "python",
   "nbconvert_exporter": "python",
   "pygments_lexer": "ipython3",
   "version": "3.9.13"
  }
 },
 "nbformat": 4,
 "nbformat_minor": 4
}
